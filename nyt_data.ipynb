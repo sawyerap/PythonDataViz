{
 "cells": [
  {
   "cell_type": "markdown",
   "metadata": {},
   "source": [
    "# NYT Data Explorer\n",
    "\n",
    "Explores the NYT county data."
   ]
  },
  {
   "cell_type": "code",
   "execution_count": 1,
   "metadata": {},
   "outputs": [],
   "source": [
    "%matplotlib inline\n",
    "import numpy as np\n",
    "import matplotlib.pyplot as plt\n",
    "import pandas as pd\n",
    "import datetime as dt"
   ]
  },
  {
   "cell_type": "markdown",
   "metadata": {},
   "source": [
    "The NYT data (3/29) is from https://github.com/nytimes/covid-19-data"
   ]
  },
  {
   "cell_type": "code",
   "execution_count": 2,
   "metadata": {},
   "outputs": [],
   "source": [
    "df = pd.read_csv('nyt_data/us-counties.csv', parse_dates=['date'])"
   ]
  },
  {
   "cell_type": "code",
   "execution_count": 7,
   "metadata": {},
   "outputs": [],
   "source": [
    "pa_only = df[df['state']=='Pennsylvania'].reset_index(drop=True)"
   ]
  },
  {
   "cell_type": "code",
   "execution_count": 8,
   "metadata": {},
   "outputs": [
    {
     "data": {
      "text/html": [
       "<div>\n",
       "<style scoped>\n",
       "    .dataframe tbody tr th:only-of-type {\n",
       "        vertical-align: middle;\n",
       "    }\n",
       "\n",
       "    .dataframe tbody tr th {\n",
       "        vertical-align: top;\n",
       "    }\n",
       "\n",
       "    .dataframe thead th {\n",
       "        text-align: right;\n",
       "    }\n",
       "</style>\n",
       "<table border=\"1\" class=\"dataframe\">\n",
       "  <thead>\n",
       "    <tr style=\"text-align: right;\">\n",
       "      <th></th>\n",
       "      <th>date</th>\n",
       "      <th>county</th>\n",
       "      <th>state</th>\n",
       "      <th>fips</th>\n",
       "      <th>cases</th>\n",
       "      <th>deaths</th>\n",
       "    </tr>\n",
       "  </thead>\n",
       "  <tbody>\n",
       "    <tr>\n",
       "      <th>0</th>\n",
       "      <td>2020-03-06</td>\n",
       "      <td>Delaware</td>\n",
       "      <td>Pennsylvania</td>\n",
       "      <td>42045.0</td>\n",
       "      <td>1</td>\n",
       "      <td>0</td>\n",
       "    </tr>\n",
       "    <tr>\n",
       "      <th>1</th>\n",
       "      <td>2020-03-06</td>\n",
       "      <td>Wayne</td>\n",
       "      <td>Pennsylvania</td>\n",
       "      <td>42127.0</td>\n",
       "      <td>1</td>\n",
       "      <td>0</td>\n",
       "    </tr>\n",
       "    <tr>\n",
       "      <th>2</th>\n",
       "      <td>2020-03-07</td>\n",
       "      <td>Delaware</td>\n",
       "      <td>Pennsylvania</td>\n",
       "      <td>42045.0</td>\n",
       "      <td>1</td>\n",
       "      <td>0</td>\n",
       "    </tr>\n",
       "    <tr>\n",
       "      <th>3</th>\n",
       "      <td>2020-03-07</td>\n",
       "      <td>Montgomery</td>\n",
       "      <td>Pennsylvania</td>\n",
       "      <td>42091.0</td>\n",
       "      <td>2</td>\n",
       "      <td>0</td>\n",
       "    </tr>\n",
       "    <tr>\n",
       "      <th>4</th>\n",
       "      <td>2020-03-07</td>\n",
       "      <td>Wayne</td>\n",
       "      <td>Pennsylvania</td>\n",
       "      <td>42127.0</td>\n",
       "      <td>1</td>\n",
       "      <td>0</td>\n",
       "    </tr>\n",
       "    <tr>\n",
       "      <th>...</th>\n",
       "      <td>...</td>\n",
       "      <td>...</td>\n",
       "      <td>...</td>\n",
       "      <td>...</td>\n",
       "      <td>...</td>\n",
       "      <td>...</td>\n",
       "    </tr>\n",
       "    <tr>\n",
       "      <th>550</th>\n",
       "      <td>2020-03-29</td>\n",
       "      <td>Warren</td>\n",
       "      <td>Pennsylvania</td>\n",
       "      <td>42123.0</td>\n",
       "      <td>1</td>\n",
       "      <td>0</td>\n",
       "    </tr>\n",
       "    <tr>\n",
       "      <th>551</th>\n",
       "      <td>2020-03-29</td>\n",
       "      <td>Washington</td>\n",
       "      <td>Pennsylvania</td>\n",
       "      <td>42125.0</td>\n",
       "      <td>24</td>\n",
       "      <td>0</td>\n",
       "    </tr>\n",
       "    <tr>\n",
       "      <th>552</th>\n",
       "      <td>2020-03-29</td>\n",
       "      <td>Wayne</td>\n",
       "      <td>Pennsylvania</td>\n",
       "      <td>42127.0</td>\n",
       "      <td>7</td>\n",
       "      <td>0</td>\n",
       "    </tr>\n",
       "    <tr>\n",
       "      <th>553</th>\n",
       "      <td>2020-03-29</td>\n",
       "      <td>Westmoreland</td>\n",
       "      <td>Pennsylvania</td>\n",
       "      <td>42129.0</td>\n",
       "      <td>47</td>\n",
       "      <td>0</td>\n",
       "    </tr>\n",
       "    <tr>\n",
       "      <th>554</th>\n",
       "      <td>2020-03-29</td>\n",
       "      <td>York</td>\n",
       "      <td>Pennsylvania</td>\n",
       "      <td>42133.0</td>\n",
       "      <td>43</td>\n",
       "      <td>0</td>\n",
       "    </tr>\n",
       "  </tbody>\n",
       "</table>\n",
       "<p>555 rows × 6 columns</p>\n",
       "</div>"
      ],
      "text/plain": [
       "          date        county         state     fips  cases  deaths\n",
       "0   2020-03-06      Delaware  Pennsylvania  42045.0      1       0\n",
       "1   2020-03-06         Wayne  Pennsylvania  42127.0      1       0\n",
       "2   2020-03-07      Delaware  Pennsylvania  42045.0      1       0\n",
       "3   2020-03-07    Montgomery  Pennsylvania  42091.0      2       0\n",
       "4   2020-03-07         Wayne  Pennsylvania  42127.0      1       0\n",
       "..         ...           ...           ...      ...    ...     ...\n",
       "550 2020-03-29        Warren  Pennsylvania  42123.0      1       0\n",
       "551 2020-03-29    Washington  Pennsylvania  42125.0     24       0\n",
       "552 2020-03-29         Wayne  Pennsylvania  42127.0      7       0\n",
       "553 2020-03-29  Westmoreland  Pennsylvania  42129.0     47       0\n",
       "554 2020-03-29          York  Pennsylvania  42133.0     43       0\n",
       "\n",
       "[555 rows x 6 columns]"
      ]
     },
     "execution_count": 8,
     "metadata": {},
     "output_type": "execute_result"
    }
   ],
   "source": [
    "pa_only"
   ]
  },
  {
   "cell_type": "code",
   "execution_count": 9,
   "metadata": {},
   "outputs": [],
   "source": [
    "surrounding = ['Beaver', 'Butler', 'Armstrong', 'Westmoreland', 'Allegheny', 'Washington', 'Fayette']"
   ]
  },
  {
   "cell_type": "code",
   "execution_count": 20,
   "metadata": {},
   "outputs": [],
   "source": [
    "near_pgh = pa_only[pa_only['county'].isin(surrounding)].reset_index(drop=True)\n",
    "near_pgh.drop(columns=['fips'], inplace=True)"
   ]
  },
  {
   "cell_type": "code",
   "execution_count": 26,
   "metadata": {},
   "outputs": [],
   "source": [
    "near_pgh_summary = near_pgh.groupby(['date']).sum()\n",
    "near_pgh_summary.index\n",
    "near_pgh_summary.index.freq='D'\n",
    "near_pgh_summary.sort_index(inplace=True)"
   ]
  },
  {
   "cell_type": "code",
   "execution_count": 27,
   "metadata": {},
   "outputs": [
    {
     "data": {
      "image/png": "[encoded data removed]",
      "text/plain": [
       "<Figure size 432x288 with 1 Axes>"
      ]
     },
     "metadata": {
      "needs_background": "light"
     },
     "output_type": "display_data"
    }
   ],
   "source": [
    "ax = near_pgh_summary.plot()"
   ]
  },
  {
   "cell_type": "code",
   "execution_count": 28,
   "metadata": {},
   "outputs": [
    {
     "data": {
      "text/html": [
       "<div>\n",
       "<style scoped>\n",
       "    .dataframe tbody tr th:only-of-type {\n",
       "        vertical-align: middle;\n",
       "    }\n",
       "\n",
       "    .dataframe tbody tr th {\n",
       "        vertical-align: top;\n",
       "    }\n",
       "\n",
       "    .dataframe thead th {\n",
       "        text-align: right;\n",
       "    }\n",
       "</style>\n",
       "<table border=\"1\" class=\"dataframe\">\n",
       "  <thead>\n",
       "    <tr style=\"text-align: right;\">\n",
       "      <th></th>\n",
       "      <th>cases</th>\n",
       "      <th>deaths</th>\n",
       "    </tr>\n",
       "    <tr>\n",
       "      <th>date</th>\n",
       "      <th></th>\n",
       "      <th></th>\n",
       "    </tr>\n",
       "  </thead>\n",
       "  <tbody>\n",
       "    <tr>\n",
       "      <th>2020-03-13</th>\n",
       "      <td>1</td>\n",
       "      <td>0</td>\n",
       "    </tr>\n",
       "    <tr>\n",
       "      <th>2020-03-14</th>\n",
       "      <td>2</td>\n",
       "      <td>0</td>\n",
       "    </tr>\n",
       "    <tr>\n",
       "      <th>2020-03-15</th>\n",
       "      <td>4</td>\n",
       "      <td>0</td>\n",
       "    </tr>\n",
       "    <tr>\n",
       "      <th>2020-03-16</th>\n",
       "      <td>6</td>\n",
       "      <td>0</td>\n",
       "    </tr>\n",
       "    <tr>\n",
       "      <th>2020-03-17</th>\n",
       "      <td>13</td>\n",
       "      <td>0</td>\n",
       "    </tr>\n",
       "    <tr>\n",
       "      <th>2020-03-18</th>\n",
       "      <td>16</td>\n",
       "      <td>0</td>\n",
       "    </tr>\n",
       "    <tr>\n",
       "      <th>2020-03-19</th>\n",
       "      <td>25</td>\n",
       "      <td>0</td>\n",
       "    </tr>\n",
       "    <tr>\n",
       "      <th>2020-03-20</th>\n",
       "      <td>38</td>\n",
       "      <td>0</td>\n",
       "    </tr>\n",
       "    <tr>\n",
       "      <th>2020-03-21</th>\n",
       "      <td>44</td>\n",
       "      <td>1</td>\n",
       "    </tr>\n",
       "    <tr>\n",
       "      <th>2020-03-22</th>\n",
       "      <td>57</td>\n",
       "      <td>1</td>\n",
       "    </tr>\n",
       "    <tr>\n",
       "      <th>2020-03-23</th>\n",
       "      <td>70</td>\n",
       "      <td>1</td>\n",
       "    </tr>\n",
       "    <tr>\n",
       "      <th>2020-03-24</th>\n",
       "      <td>90</td>\n",
       "      <td>2</td>\n",
       "    </tr>\n",
       "    <tr>\n",
       "      <th>2020-03-25</th>\n",
       "      <td>138</td>\n",
       "      <td>2</td>\n",
       "    </tr>\n",
       "    <tr>\n",
       "      <th>2020-03-26</th>\n",
       "      <td>210</td>\n",
       "      <td>3</td>\n",
       "    </tr>\n",
       "    <tr>\n",
       "      <th>2020-03-27</th>\n",
       "      <td>252</td>\n",
       "      <td>3</td>\n",
       "    </tr>\n",
       "    <tr>\n",
       "      <th>2020-03-28</th>\n",
       "      <td>358</td>\n",
       "      <td>4</td>\n",
       "    </tr>\n",
       "    <tr>\n",
       "      <th>2020-03-29</th>\n",
       "      <td>424</td>\n",
       "      <td>4</td>\n",
       "    </tr>\n",
       "  </tbody>\n",
       "</table>\n",
       "</div>"
      ],
      "text/plain": [
       "            cases  deaths\n",
       "date                     \n",
       "2020-03-13      1       0\n",
       "2020-03-14      2       0\n",
       "2020-03-15      4       0\n",
       "2020-03-16      6       0\n",
       "2020-03-17     13       0\n",
       "2020-03-18     16       0\n",
       "2020-03-19     25       0\n",
       "2020-03-20     38       0\n",
       "2020-03-21     44       1\n",
       "2020-03-22     57       1\n",
       "2020-03-23     70       1\n",
       "2020-03-24     90       2\n",
       "2020-03-25    138       2\n",
       "2020-03-26    210       3\n",
       "2020-03-27    252       3\n",
       "2020-03-28    358       4\n",
       "2020-03-29    424       4"
      ]
     },
     "execution_count": 28,
     "metadata": {},
     "output_type": "execute_result"
    }
   ],
   "source": [
    "near_pgh_summary"
   ]
  },
  {
   "cell_type": "code",
   "execution_count": 29,
   "metadata": {},
   "outputs": [
    {
     "data": {
      "text/html": [
       "<div>\n",
       "<style scoped>\n",
       "    .dataframe tbody tr th:only-of-type {\n",
       "        vertical-align: middle;\n",
       "    }\n",
       "\n",
       "    .dataframe tbody tr th {\n",
       "        vertical-align: top;\n",
       "    }\n",
       "\n",
       "    .dataframe thead th {\n",
       "        text-align: right;\n",
       "    }\n",
       "</style>\n",
       "<table border=\"1\" class=\"dataframe\">\n",
       "  <thead>\n",
       "    <tr style=\"text-align: right;\">\n",
       "      <th></th>\n",
       "      <th>date</th>\n",
       "      <th>county</th>\n",
       "      <th>state</th>\n",
       "      <th>fips</th>\n",
       "      <th>cases</th>\n",
       "      <th>deaths</th>\n",
       "    </tr>\n",
       "  </thead>\n",
       "  <tbody>\n",
       "    <tr>\n",
       "      <th>0</th>\n",
       "      <td>2020-03-14</td>\n",
       "      <td>Allegheny</td>\n",
       "      <td>Pennsylvania</td>\n",
       "      <td>42003.0</td>\n",
       "      <td>1</td>\n",
       "      <td>0</td>\n",
       "    </tr>\n",
       "    <tr>\n",
       "      <th>1</th>\n",
       "      <td>2020-03-15</td>\n",
       "      <td>Allegheny</td>\n",
       "      <td>Pennsylvania</td>\n",
       "      <td>42003.0</td>\n",
       "      <td>3</td>\n",
       "      <td>0</td>\n",
       "    </tr>\n",
       "    <tr>\n",
       "      <th>2</th>\n",
       "      <td>2020-03-16</td>\n",
       "      <td>Allegheny</td>\n",
       "      <td>Pennsylvania</td>\n",
       "      <td>42003.0</td>\n",
       "      <td>5</td>\n",
       "      <td>0</td>\n",
       "    </tr>\n",
       "    <tr>\n",
       "      <th>3</th>\n",
       "      <td>2020-03-17</td>\n",
       "      <td>Allegheny</td>\n",
       "      <td>Pennsylvania</td>\n",
       "      <td>42003.0</td>\n",
       "      <td>10</td>\n",
       "      <td>0</td>\n",
       "    </tr>\n",
       "    <tr>\n",
       "      <th>4</th>\n",
       "      <td>2020-03-18</td>\n",
       "      <td>Allegheny</td>\n",
       "      <td>Pennsylvania</td>\n",
       "      <td>42003.0</td>\n",
       "      <td>12</td>\n",
       "      <td>0</td>\n",
       "    </tr>\n",
       "    <tr>\n",
       "      <th>5</th>\n",
       "      <td>2020-03-19</td>\n",
       "      <td>Allegheny</td>\n",
       "      <td>Pennsylvania</td>\n",
       "      <td>42003.0</td>\n",
       "      <td>18</td>\n",
       "      <td>0</td>\n",
       "    </tr>\n",
       "    <tr>\n",
       "      <th>6</th>\n",
       "      <td>2020-03-20</td>\n",
       "      <td>Allegheny</td>\n",
       "      <td>Pennsylvania</td>\n",
       "      <td>42003.0</td>\n",
       "      <td>28</td>\n",
       "      <td>0</td>\n",
       "    </tr>\n",
       "    <tr>\n",
       "      <th>7</th>\n",
       "      <td>2020-03-21</td>\n",
       "      <td>Allegheny</td>\n",
       "      <td>Pennsylvania</td>\n",
       "      <td>42003.0</td>\n",
       "      <td>31</td>\n",
       "      <td>1</td>\n",
       "    </tr>\n",
       "    <tr>\n",
       "      <th>8</th>\n",
       "      <td>2020-03-22</td>\n",
       "      <td>Allegheny</td>\n",
       "      <td>Pennsylvania</td>\n",
       "      <td>42003.0</td>\n",
       "      <td>40</td>\n",
       "      <td>1</td>\n",
       "    </tr>\n",
       "    <tr>\n",
       "      <th>9</th>\n",
       "      <td>2020-03-23</td>\n",
       "      <td>Allegheny</td>\n",
       "      <td>Pennsylvania</td>\n",
       "      <td>42003.0</td>\n",
       "      <td>48</td>\n",
       "      <td>1</td>\n",
       "    </tr>\n",
       "    <tr>\n",
       "      <th>10</th>\n",
       "      <td>2020-03-24</td>\n",
       "      <td>Allegheny</td>\n",
       "      <td>Pennsylvania</td>\n",
       "      <td>42003.0</td>\n",
       "      <td>58</td>\n",
       "      <td>2</td>\n",
       "    </tr>\n",
       "    <tr>\n",
       "      <th>11</th>\n",
       "      <td>2020-03-25</td>\n",
       "      <td>Allegheny</td>\n",
       "      <td>Pennsylvania</td>\n",
       "      <td>42003.0</td>\n",
       "      <td>88</td>\n",
       "      <td>2</td>\n",
       "    </tr>\n",
       "    <tr>\n",
       "      <th>12</th>\n",
       "      <td>2020-03-26</td>\n",
       "      <td>Allegheny</td>\n",
       "      <td>Pennsylvania</td>\n",
       "      <td>42003.0</td>\n",
       "      <td>133</td>\n",
       "      <td>2</td>\n",
       "    </tr>\n",
       "    <tr>\n",
       "      <th>13</th>\n",
       "      <td>2020-03-27</td>\n",
       "      <td>Allegheny</td>\n",
       "      <td>Pennsylvania</td>\n",
       "      <td>42003.0</td>\n",
       "      <td>158</td>\n",
       "      <td>2</td>\n",
       "    </tr>\n",
       "    <tr>\n",
       "      <th>14</th>\n",
       "      <td>2020-03-28</td>\n",
       "      <td>Allegheny</td>\n",
       "      <td>Pennsylvania</td>\n",
       "      <td>42003.0</td>\n",
       "      <td>219</td>\n",
       "      <td>2</td>\n",
       "    </tr>\n",
       "    <tr>\n",
       "      <th>15</th>\n",
       "      <td>2020-03-29</td>\n",
       "      <td>Allegheny</td>\n",
       "      <td>Pennsylvania</td>\n",
       "      <td>42003.0</td>\n",
       "      <td>265</td>\n",
       "      <td>2</td>\n",
       "    </tr>\n",
       "  </tbody>\n",
       "</table>\n",
       "</div>"
      ],
      "text/plain": [
       "         date     county         state     fips  cases  deaths\n",
       "0  2020-03-14  Allegheny  Pennsylvania  42003.0      1       0\n",
       "1  2020-03-15  Allegheny  Pennsylvania  42003.0      3       0\n",
       "2  2020-03-16  Allegheny  Pennsylvania  42003.0      5       0\n",
       "3  2020-03-17  Allegheny  Pennsylvania  42003.0     10       0\n",
       "4  2020-03-18  Allegheny  Pennsylvania  42003.0     12       0\n",
       "5  2020-03-19  Allegheny  Pennsylvania  42003.0     18       0\n",
       "6  2020-03-20  Allegheny  Pennsylvania  42003.0     28       0\n",
       "7  2020-03-21  Allegheny  Pennsylvania  42003.0     31       1\n",
       "8  2020-03-22  Allegheny  Pennsylvania  42003.0     40       1\n",
       "9  2020-03-23  Allegheny  Pennsylvania  42003.0     48       1\n",
       "10 2020-03-24  Allegheny  Pennsylvania  42003.0     58       2\n",
       "11 2020-03-25  Allegheny  Pennsylvania  42003.0     88       2\n",
       "12 2020-03-26  Allegheny  Pennsylvania  42003.0    133       2\n",
       "13 2020-03-27  Allegheny  Pennsylvania  42003.0    158       2\n",
       "14 2020-03-28  Allegheny  Pennsylvania  42003.0    219       2\n",
       "15 2020-03-29  Allegheny  Pennsylvania  42003.0    265       2"
      ]
     },
     "execution_count": 29,
     "metadata": {},
     "output_type": "execute_result"
    }
   ],
   "source": [
    "pa_only[pa_only['county']=='Allegheny'].reset_index(drop=True)"
   ]
  },
  {
   "cell_type": "markdown",
   "metadata": {},
   "source": [
    "### Curve Fitting"
   ]
  },
  {
   "cell_type": "code",
   "execution_count": 45,
   "metadata": {},
   "outputs": [],
   "source": [
    "from scipy.optimize import curve_fit"
   ]
  },
  {
   "cell_type": "code",
   "execution_count": 46,
   "metadata": {},
   "outputs": [],
   "source": [
    "y = near_pgh_summary['cases'].values"
   ]
  },
  {
   "cell_type": "code",
   "execution_count": 47,
   "metadata": {},
   "outputs": [],
   "source": [
    "x = np.arange(len(y))"
   ]
  },
  {
   "cell_type": "code",
   "execution_count": 48,
   "metadata": {},
   "outputs": [],
   "source": [
    "def exponential(x, a, k, b):\n",
    "    return a*np.exp(x*k) + b"
   ]
  },
  {
   "cell_type": "code",
   "execution_count": 53,
   "metadata": {},
   "outputs": [],
   "source": [
    "popt_exp, pcov_exp = curve_fit(exponential, x, y, p0=[0.2, 0.5, 0.0])"
   ]
  },
  {
   "cell_type": "code",
   "execution_count": 54,
   "metadata": {},
   "outputs": [
    {
     "data": {
      "text/plain": [
       "array([ 5.88802833,  0.27068926, -7.09373754])"
      ]
     },
     "execution_count": 54,
     "metadata": {},
     "output_type": "execute_result"
    }
   ],
   "source": [
    "popt_exp"
   ]
  },
  {
   "cell_type": "code",
   "execution_count": 61,
   "metadata": {},
   "outputs": [
    {
     "data": {
      "text/plain": [
       "<matplotlib.legend.Legend at 0x1d003fbac08>"
      ]
     },
     "execution_count": 61,
     "metadata": {},
     "output_type": "execute_result"
    },
    {
     "data": {
      "image/png": "[encoded data removed]",
      "text/plain": [
       "<Figure size 432x288 with 1 Axes>"
      ]
     },
     "metadata": {
      "needs_background": "light"
     },
     "output_type": "display_data"
    }
   ],
   "source": [
    "fig = plt.figure()\n",
    "ax = fig.add_subplot(111)\n",
    "ax.plot(x,y)\n",
    "ax.plot(x,exponential(x,popt_exp[0],popt_exp[1],popt_exp[2]),'--')\n",
    "ax.set_xlabel('day')\n",
    "ax.set_ylabel('cases')\n",
    "ax.legend(['data', 'fit'])"
   ]
  },
  {
   "cell_type": "code",
   "execution_count": 57,
   "metadata": {},
   "outputs": [
    {
     "data": {
      "text/plain": [
       "array([ 5.88802833,  0.27068926, -7.09373754])"
      ]
     },
     "execution_count": 57,
     "metadata": {},
     "output_type": "execute_result"
    }
   ],
   "source": [
    "popt_exp"
   ]
  },
  {
   "cell_type": "code",
   "execution_count": null,
   "metadata": {},
   "outputs": [],
   "source": []
  }
 ],
 "metadata": {
  "kernelspec": {
   "display_name": "Python 3",
   "language": "python",
   "name": "python3"
  },
  "language_info": {
   "codemirror_mode": {
    "name": "ipython",
    "version": 3
   },
   "file_extension": ".py",
   "mimetype": "text/x-python",
   "name": "python",
   "nbconvert_exporter": "python",
   "pygments_lexer": "ipython3",
   "version": "3.7.6"
  }
 },
 "nbformat": 4,
 "nbformat_minor": 4
}
